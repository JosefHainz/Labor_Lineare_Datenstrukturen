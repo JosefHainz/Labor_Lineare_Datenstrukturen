{
  "nbformat": 4,
  "nbformat_minor": 0,
  "metadata": {
    "colab": {
      "provenance": [],
      "include_colab_link": true
    },
    "kernelspec": {
      "name": "python3",
      "display_name": "Python 3"
    },
    "language_info": {
      "name": "python"
    }
  },
  "cells": [
    {
      "cell_type": "markdown",
      "metadata": {
        "id": "view-in-github",
        "colab_type": "text"
      },
      "source": [
        "<a href=\"https://colab.research.google.com/github/JosefHainz/Labor_Lineare_Datenstrukturen/blob/main/Lab07_Hashtabelle.ipynb\" target=\"_parent\"><img src=\"https://colab.research.google.com/assets/colab-badge.svg\" alt=\"Open In Colab\"/></a>"
      ]
    },
    {
      "cell_type": "markdown",
      "source": [
        "# INF2 07 Hashtabelle\n",
        "In dieser Übung implementieren Sie eine Hashtabelle mit Chaining zur Kollisionsbehandlung."
      ],
      "metadata": {
        "id": "mKqYxryzDJjM"
      }
    },
    {
      "cell_type": "code",
      "source": [
        "class HashTable:\n",
        "    def __init__(self, size):\n",
        "        self.size = size\n",
        "        self.table = [[] for _ in range(size)]\n",
        "\n",
        "    def hash(self, key):\n",
        "        return hash(key) % self.size\n",
        "\n",
        "#fügt neuen Eintrag hinzu, überschreibt ggf. alten Eintrag\n",
        "    def insert(self, key, value):\n",
        "        empt_list = []\n",
        "        index = self.hash(key)\n",
        "        is_in_there = False\n",
        "        for element in self.table[index]:\n",
        "          if element[0] == key:\n",
        "            element[1] = value\n",
        "        for element in self.table[index]:\n",
        "          if key in element and value in element:\n",
        "            is_in_there = True\n",
        "        if is_in_there == False:\n",
        "          self.table[index].append(empt_list)\n",
        "          self.table[index][-1].append(key)\n",
        "          self.table[index][-1].append(value)\n",
        "        return\n",
        "\n",
        "#gibt den mit einem Key assoziierten Wert zurück, falls kein Wert vorhanden ist wird none ausgegeben\n",
        "    def get(self, key):\n",
        "        index = self.hash(key)\n",
        "        truth_val = False\n",
        "        for element in self.table[index]:\n",
        "          if element[0] == key:\n",
        "            truth_val = True\n",
        "            return element[1]\n",
        "        if truth_val == False:\n",
        "          return\n",
        "\n",
        "\n",
        "#entfernt den Eintrag, dessen Key das Argument ist\n",
        "    def remove(self, key):\n",
        "\n",
        "        return\n",
        "\n",
        "#löscht alle Einträge der Hashtabelle\n",
        "    def clear(self):\n",
        "        self.table = [[] for _ in range(self.size)]\n",
        "        return\n",
        "\n",
        "    def __repr__(self):\n",
        "        return str(self.table)\n"
      ],
      "metadata": {
        "id": "9FnXSts9DJpE"
      },
      "execution_count": 12,
      "outputs": []
    },
    {
      "cell_type": "markdown",
      "source": [
        "### Testfälle"
      ],
      "metadata": {
        "id": "NSyO1M-RDL7E"
      }
    },
    {
      "cell_type": "code",
      "source": [
        "# Erzeuge neue Hashtabelle der Länge 10\n",
        "ht = HashTable(10)\n",
        "print(ht)\n",
        "\n",
        "#dieser code wurde nur vorübergehend zum testen der hash-funktion verwendet\n",
        "print(str(ht.hash(\"Apfel\")) + \" Apfel(1)\")\n",
        "print(str(ht.hash(\"Banane\")) + \" Banane(2)\")\n",
        "print(str(ht.hash(\"Zitrone\")) + \" Zitrone(3)\")\n",
        "\n",
        "# Einfügen\n",
        "ht.insert(\"Apfel\", 1)\n",
        "ht.insert(\"Banane\", 2)\n",
        "ht.insert(\"Zitrone\", 3)\n",
        "print(ht)\n",
        "\n",
        "# Überschreiben\n",
        "ht.insert(\"Apfel\", 4)\n",
        "print(ht)\n",
        "\n",
        "# Auslesen\n",
        "print(ht.get(\"Apfel\"))  # Erwartet: 4\n",
        "\n",
        "# Entfernen\n",
        "ht.remove(\"Banane\")\n",
        "print(ht.get(\"Banane\"))  # Erwartet: None\n",
        "print(ht)\n",
        "\n",
        "# Verkettung\n",
        "ht.insert(\"Orange\", 5)\n",
        "ht.insert(\"Erdbeere\", 6)\n",
        "ht.insert(\"Himbeere\", 7)\n",
        "ht.insert(\"Kirsche\", 8)\n",
        "ht.insert(\"Traube\", 9)\n",
        "ht.insert(\"Kiwi\", 10)\n",
        "ht.insert(\"Lemone\", 11)\n",
        "ht.insert(\"Melone\", 12)  # Erwartet: Kollision und Verkettung\n",
        "print(ht)\n",
        "\n",
        "#hier wird kurz die clear-funktion getestet\n",
        "ht.clear()\n",
        "print(ht)"
      ],
      "metadata": {
        "colab": {
          "base_uri": "https://localhost:8080/"
        },
        "id": "BZ1WnOwcDKQ1",
        "outputId": "e8f95ad0-c6ea-48f4-86b3-59fd5dd20c4a"
      },
      "execution_count": 13,
      "outputs": [
        {
          "output_type": "stream",
          "name": "stdout",
          "text": [
            "[[], [], [], [], [], [], [], [], [], []]\n",
            "6 Apfel(1)\n",
            "8 Banane(2)\n",
            "7 Zitrone(3)\n",
            "[[], [], [], [], [], [], [['Apfel', 1]], [['Zitrone', 3]], [['Banane', 2]], []]\n",
            "[[], [], [], [], [], [], [['Apfel', 4]], [['Zitrone', 3]], [['Banane', 2]], []]\n",
            "4\n",
            "2\n",
            "[[], [], [], [], [], [], [['Apfel', 4]], [['Zitrone', 3]], [['Banane', 2]], []]\n",
            "[[], [['Himbeere', 7], ['Traube', 9], ['Kiwi', 10]], [], [['Kirsche', 8]], [['Lemone', 11], ['Melone', 12]], [], [['Apfel', 4], ['Erdbeere', 6]], [['Zitrone', 3], ['Orange', 5]], [['Banane', 2]], []]\n",
            "[[], [], [], [], [], [], [], [], [], []]\n"
          ]
        }
      ]
    },
    {
      "cell_type": "code",
      "source": [],
      "metadata": {
        "id": "QGxioo0TUwCI"
      },
      "execution_count": null,
      "outputs": []
    }
  ]
}